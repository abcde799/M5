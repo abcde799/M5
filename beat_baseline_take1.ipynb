{
 "cells": [
  {
   "cell_type": "code",
   "execution_count": 1,
   "metadata": {
    "colab": {
     "base_uri": "https://localhost:8080/",
     "height": 70
    },
    "id": "gx40RYgPkY48",
    "outputId": "ff71376f-df6c-4da2-c2ac-54a40c0663ac"
   },
   "outputs": [
    {
     "name": "stderr",
     "output_type": "stream",
     "text": [
      "/usr/local/lib/python3.6/dist-packages/statsmodels/tools/_testing.py:19: FutureWarning: pandas.util.testing is deprecated. Use the functions in the public API at pandas.testing instead.\n",
      "  import pandas.util.testing as tm\n"
     ]
    }
   ],
   "source": [
    "import pandas as pd\n",
    "import numpy as np\n",
    "import tqdm\n",
    "\n",
    "\n",
    "from auxfuncs import reduce_mem_usage, code_mean, timeseries_train_test_split, plotModelResults, plotCoefficients, plotForecastResults "
   ]
  },
  {
   "cell_type": "code",
   "execution_count": 2,
   "metadata": {
    "id": "uDYSorNO6clj"
   },
   "outputs": [],
   "source": [
    "def chop(x):\n",
    "    return x[:-11]"
   ]
  },
  {
   "cell_type": "code",
   "execution_count": 3,
   "metadata": {
    "colab": {
     "base_uri": "https://localhost:8080/",
     "height": 50
    },
    "id": "zA89H-SGkZk9",
    "outputId": "a92a8d5f-ff22-48f3-a132-c1146aec3f19"
   },
   "outputs": [
    {
     "name": "stdout",
     "output_type": "stream",
     "text": [
      "Archive:  sales_train_validation.zip\n",
      "  inflating: sales_train_validation.csv  \n"
     ]
    }
   ],
   "source": [
    "!unzip sales_train_validation.zip"
   ]
  },
  {
   "cell_type": "code",
   "execution_count": 5,
   "metadata": {
    "colab": {
     "base_uri": "https://localhost:8080/",
     "height": 50
    },
    "id": "QL1WT0BOg2IA",
    "outputId": "b20d04cd-2fe3-4ed3-9c4f-8a2b3afd7428"
   },
   "outputs": [
    {
     "name": "stdout",
     "output_type": "stream",
     "text": [
      "Archive:  sample_submission.zip\n",
      "  inflating: sample_submission.csv   \n"
     ]
    }
   ],
   "source": [
    "!unzip sample_submission.zip"
   ]
  },
  {
   "cell_type": "code",
   "execution_count": 1,
   "metadata": {
    "colab": {
     "base_uri": "https://localhost:8080/",
     "height": 1000
    },
    "id": "9Sd86TU6kZuF",
    "outputId": "1bbe4076-0d4e-47fd-98b5-fec51c96027f"
   },
   "outputs": [],
   "source": [
    "sales = reduce_mem_usage(pd.read_csv('sales_train_validation.csv'))[0]"
   ]
  },
  {
   "cell_type": "code",
   "execution_count": 8,
   "metadata": {
    "id": "utzHogHld4Wa"
   },
   "outputs": [],
   "source": [
    "def prepare_sales_validation(sales):\n",
    "\n",
    "    d_cols = [c for c in sales.columns if 'd_' in c]\n",
    "\n",
    "    rename = {c: int(c[2:]) for c in d_cols}\n",
    "\n",
    "    sales = sales.rename(columns=rename)\n",
    "\n",
    "    sales.id = sales.id.apply(chop)\n",
    "\n",
    "    return sales\n",
    "\n"
   ]
  },
  {
   "cell_type": "code",
   "execution_count": 9,
   "metadata": {
    "id": "AF636mI0L2Ka"
   },
   "outputs": [],
   "source": [
    "sales = prepare_sales_validation(sales)"
   ]
  },
  {
   "cell_type": "code",
   "execution_count": 10,
   "metadata": {
    "id": "nKvNu40bfAN4"
   },
   "outputs": [],
   "source": [
    "def prepare_ts(id, sales, lag_start, lag_end, rolling=True, rolling_year=True):\n",
    "\n",
    "    '''id is a string and sales is a sales validation dataframe. Function returns\n",
    "    a time series with lags for the given product id, no aggregation is made.'''   \n",
    "    \n",
    "    pilot = sales[sales.id==id][[col for col in sales.columns if isinstance(col, int)]].T\n",
    "  \n",
    "    pilot = pilot.rename(columns={list(pilot.columns)[0]:'target'})\n",
    "\n",
    "    for i in range(lag_start, lag_end):\n",
    "\n",
    "        pilot[\"lag_{}\".format(i)] = pilot['target'].shift(i)\n",
    "        pilot[\"rolling_mean_{}\".format(i)] = pilot['target'].rolling(window=i).mean()\n",
    "        pilot[\"rolling_median_{}\".format(i)] = pilot['target'].rolling(window=i).median()\n",
    "        \n",
    "    if rolling_year:\n",
    "        \n",
    "        pilot[\"rolling_year_mean\"] = pilot['target'].rolling(window=365).mean()\n",
    "        pilot[\"rolling_year_median\"] = pilot['target'].rolling(window=365).median()\n",
    "             \n",
    "   \n",
    "    pilot = pilot.dropna()     \n",
    "\n",
    "\n",
    "    return pilot \n",
    "\n",
    "\n"
   ]
  },
  {
   "cell_type": "code",
   "execution_count": 11,
   "metadata": {
    "colab": {
     "base_uri": "https://localhost:8080/",
     "height": 50
    },
    "id": "RyF1huTlka23",
    "outputId": "5616b110-b18c-43d9-ba76-82f860694692"
   },
   "outputs": [
    {
     "name": "stdout",
     "output_type": "stream",
     "text": [
      "Archive:  sell_prices.zip\n",
      "  inflating: sell_prices.csv         \n"
     ]
    }
   ],
   "source": [
    "!unzip sell_prices.zip"
   ]
  },
  {
   "cell_type": "code",
   "execution_count": 2,
   "metadata": {
    "colab": {
     "base_uri": "https://localhost:8080/",
     "height": 251
    },
    "id": "6TCqE0TYka9H",
    "outputId": "7b326248-25f6-419d-e564-fe360b3ed724"
   },
   "outputs": [],
   "source": [
    "sell = reduce_mem_usage(pd.read_csv('sell_prices.csv'))[0]"
   ]
  },
  {
   "cell_type": "code",
   "execution_count": 13,
   "metadata": {
    "id": "L-BWZFuGqIvE"
   },
   "outputs": [],
   "source": [
    "def prepare_sell(sell):\n",
    "\n",
    "\n",
    "    sell['id'] = sell.item_id+'_'+sell.store_id\n",
    "\n",
    "    return sell"
   ]
  },
  {
   "cell_type": "code",
   "execution_count": 14,
   "metadata": {
    "id": "T7-szok1ML6T"
   },
   "outputs": [],
   "source": [
    "sell = prepare_sell(sell)"
   ]
  },
  {
   "cell_type": "code",
   "execution_count": 15,
   "metadata": {
    "colab": {
     "base_uri": "https://localhost:8080/",
     "height": 50
    },
    "id": "TV2FqlHckbIe",
    "outputId": "25b78341-cff5-4e42-d6f4-1424e5034d43"
   },
   "outputs": [
    {
     "name": "stdout",
     "output_type": "stream",
     "text": [
      "Archive:  calendar.zip\n",
      "  inflating: calendar.csv            \n"
     ]
    }
   ],
   "source": [
    "!unzip calendar.zip "
   ]
  },
  {
   "cell_type": "code",
   "execution_count": 3,
   "metadata": {
    "colab": {
     "base_uri": "https://localhost:8080/",
     "height": 669
    },
    "id": "rY8Ry-U1kbOO",
    "outputId": "9540d7c2-77c6-489d-88c2-5c2c80e8b2fb"
   },
   "outputs": [],
   "source": [
    "calendar = reduce_mem_usage(pd.read_csv('calendar.csv'))[0]"
   ]
  },
  {
   "cell_type": "code",
   "execution_count": 17,
   "metadata": {
    "id": "-IPBZts1kbZM"
   },
   "outputs": [],
   "source": [
    "#Remove the following holidays from calendar: Xmas, NY eve, NY day, Easter, TGiving,....\n",
    "\n",
    "def prepare_calendar(calendar):\n",
    "\n",
    "    calendar = calendar[~(calendar.event_name_1.isin(['SuperBowl', 'StPatricksDay', 'LaborDay', 'Thanksgiving', 'Christmas', 'NewYear', 'Easter']))]\n",
    "    day_col = calendar.d\n",
    "    rename = {c: int(c[2:]) for c in day_col}\n",
    "    calendar['d'] = calendar['d'].replace(rename)\n",
    "    calendar = calendar.rename(columns={'d':'day'})\n",
    "    calendar = calendar[['wm_yr_wk','wday', 'month', 'day']]\n",
    "    days = pd.get_dummies(calendar.wday).drop(columns=[7])\n",
    "    calendar = calendar.join(days)\n",
    "    rename_days = {1:'Sat', 2:'Sun', 3:'M', 4:'T', 5: 'W', 6:'R'}\n",
    "    calendar = calendar.rename(columns=rename_days)\n",
    "\n",
    "    return calendar\n"
   ]
  },
  {
   "cell_type": "code",
   "execution_count": 18,
   "metadata": {
    "colab": {
     "base_uri": "https://localhost:8080/",
     "height": 137
    },
    "id": "RXs2jfIaMnhl",
    "outputId": "444e72bd-bafb-49fe-ade1-b1007eb1e4d2"
   },
   "outputs": [
    {
     "name": "stderr",
     "output_type": "stream",
     "text": [
      "/usr/local/lib/python3.6/dist-packages/ipykernel_launcher.py:8: SettingWithCopyWarning: \n",
      "A value is trying to be set on a copy of a slice from a DataFrame.\n",
      "Try using .loc[row_indexer,col_indexer] = value instead\n",
      "\n",
      "See the caveats in the documentation: https://pandas.pydata.org/pandas-docs/stable/user_guide/indexing.html#returning-a-view-versus-a-copy\n",
      "  \n"
     ]
    }
   ],
   "source": [
    "calendar = prepare_calendar(calendar)"
   ]
  },
  {
   "cell_type": "code",
   "execution_count": 19,
   "metadata": {
    "id": "oSg9hhgb1tqw"
   },
   "outputs": [],
   "source": [
    "def merge_pilot_sell(id, pilot, sell, calendar):\n",
    "    ''' Merge pilot with sell and calendar to create full regression table.'''  \n",
    "    \n",
    "    sell_item = pd.merge(calendar, sell[sell.id==id], how='left', on='wm_yr_wk')\n",
    "    sell_item = sell_item.dropna()\n",
    "    sell_item = sell_item[['wday', 'day', 'sell_price', 'Sat', 'Sun', 'M', 'T', 'W','R']]  \n",
    "    pilot['day'] = pilot.index\n",
    "    pilot = pd.merge(sell_item, pilot, how='left', on='day')\n",
    "    pilot['is_weekend'] = pilot.wday.isin([1,2])*1\n",
    "    pilot = pilot.drop(columns=['wday'])\n",
    "    pilot = pilot.dropna()\n",
    "    pilot = pilot.drop(columns=['day'])\n",
    "\n",
    "    return pilot\n"
   ]
  },
  {
   "cell_type": "code",
   "execution_count": 21,
   "metadata": {
    "id": "czrFZsyn2ZYj"
   },
   "outputs": [],
   "source": [
    "def prepareData(data, test_size, target_encoding=False):\n",
    "  \n",
    "\n",
    "    \n",
    "    \n",
    "    # train-test split\n",
    "    y = data['target']\n",
    "    X = data.drop(['target'], axis=1)\n",
    "    X_train, X_test, y_train, y_test = timeseries_train_test_split(X, y, test_size)\n",
    "\n",
    "    if target_encoding:\n",
    "        # calculate averages on train set only\n",
    "        test_index = int(len(data.dropna())*(1-test_size))\n",
    "        data['weekday_average'] = list(map(code_mean(data[:test_index], 'wday', \"y\").get, data.wday))\n",
    "        data[\"month_average\"] = list(map(code_mean(data[:test_index], 'month', \"y\").get, data.month))\n",
    "        data[\"weekend_average\"] = list(map(code_mean(data[:test_index], 'is_weekend', \"y\").get, data.month))\n",
    "    \n",
    "    if test_size>0:\n",
    "        return X_train, X_test, y_train, y_test\n",
    "    elif test_size==0:\n",
    "        return X_train, y_train"
   ]
  },
  {
   "cell_type": "code",
   "execution_count": 22,
   "metadata": {
    "id": "uopqrhpQPSQi"
   },
   "outputs": [],
   "source": [
    "from sklearn.linear_model import Ridge\n",
    "from sklearn.linear_model import Lasso\n",
    "from sklearn.model_selection import cross_val_score\n",
    "from sklearn.model_selection import TimeSeriesSplit\n",
    "from sklearn.preprocessing import StandardScaler\n",
    "tscv = TimeSeriesSplit(n_splits=5)\n",
    "scaler = StandardScaler()\n",
    "from sklearn.metrics import mean_squared_error as mse\n",
    "from sklearn.linear_model import LassoCV, RidgeCV\n",
    "from sklearn.metrics import mean_absolute_error as mae\n",
    "from sklearn.ensemble import RandomForestRegressor\n",
    "import lightgbm as lgb\n",
    "\n",
    "\n",
    "\n",
    "\n"
   ]
  },
  {
   "cell_type": "code",
   "execution_count": 24,
   "metadata": {
    "id": "EEDTeSr0PSlV"
   },
   "outputs": [],
   "source": [
    "def single_lag_forcast(model, pilot, horizon, forest=False, use_cv=False):\n",
    "\n",
    "    '''horizon = No. of days into future to forecast '''\n",
    "    \n",
    "    if use_cv:\n",
    "\n",
    "        alpha = Get_optimal_Lasso_parameters(pilot, horizon)\n",
    "\n",
    "        model = Lasso(alpha)\n",
    "           \n",
    "     \n",
    "    X_train, y_train = prepareData(pilot, test_size=0.0, target_encoding=False)\n",
    "  \n",
    "    \n",
    "    X_train_scaled = scaler.fit_transform(X_train)\n",
    "    model.fit(X_train_scaled, y_train)\n",
    "    forecast = model.predict(scaler.transform(X_train[-horizon:]))\n",
    "\n",
    "    return forecast\n",
    "    "
   ]
  },
  {
   "cell_type": "code",
   "execution_count": 25,
   "metadata": {
    "colab": {
     "base_uri": "https://localhost:8080/",
     "height": 50
    },
    "id": "3NYgEFCyXeGM",
    "outputId": "c5b0fb42-9d8f-4d96-a9c9-59be78879ca3"
   },
   "outputs": [
    {
     "name": "stdout",
     "output_type": "stream",
     "text": [
      "Archive:  sales_train_evaluation.zip\n",
      "  inflating: sales_train_evaluation.csv  \n"
     ]
    }
   ],
   "source": [
    "!unzip sales_train_evaluation.zip"
   ]
  },
  {
   "cell_type": "code",
   "execution_count": 4,
   "metadata": {
    "colab": {
     "base_uri": "https://localhost:8080/",
     "height": 1000
    },
    "id": "imaEa_M3XVBS",
    "outputId": "54c79a4d-7c0b-4c63-f20f-fbc3906eed80"
   },
   "outputs": [],
   "source": [
    "#eval = reduce_mem_usage(pd.read_csv('sales_train_evaluation.csv'))[0]\n",
    "\n"
   ]
  },
  {
   "cell_type": "code",
   "execution_count": 159,
   "metadata": {
    "id": "BdKiduKI6Bs-"
   },
   "outputs": [],
   "source": [
    "def prepare_sales_eval(eval):\n",
    "\n",
    "    eval = eval.drop(columns=['item_id','dept_id','cat_id','store_id','state_id'])\n",
    "    eval.id = eval.id.apply(chop)\n",
    "    d_cols = [c for c in eval.columns if 'd_' in c]\n",
    "\n",
    "    rename = {c: int(c[2:]) for c in d_cols}\n",
    "\n",
    "    eval = eval.rename(columns=rename)\n",
    "    \n",
    "\n",
    "    return eval  "
   ]
  },
  {
   "cell_type": "code",
   "execution_count": 160,
   "metadata": {
    "id": "2hUcqV78QmbX"
   },
   "outputs": [],
   "source": [
    "eval = prepare_sales_eval(eval)"
   ]
  },
  {
   "cell_type": "code",
   "execution_count": 30,
   "metadata": {
    "id": "LVCwpkVuPTIA"
   },
   "outputs": [],
   "source": [
    "def show_me_forecast_graph(forecast, id, horizon):\n",
    "   \n",
    "    '''Returns a plot of forecast and actual data.'''\n",
    "        \n",
    "    actual = (eval[eval.id==id].T[-horizon:]).reset_index(drop=True)\n",
    "\n",
    "    return plotForecastResults(forecast, actual) "
   ]
  },
  {
   "cell_type": "code",
   "execution_count": 31,
   "metadata": {
    "id": "biqIQPbvPTQj"
   },
   "outputs": [],
   "source": [
    "def MSE(forecast, horizon, id):    \n",
    "\n",
    "    return mse((eval[eval.id==id].T[-horizon:]).reset_index(drop=True).to_numpy(), forecast)"
   ]
  },
  {
   "cell_type": "code",
   "execution_count": 32,
   "metadata": {
    "id": "OmKcm974qph2"
   },
   "outputs": [],
   "source": [
    "def MAE(forecast, horizon, id):    \n",
    "\n",
    "    return mae((eval[eval.id==id].T[-horizon:]).reset_index(drop=True).to_numpy(), forecast)"
   ]
  },
  {
   "cell_type": "code",
   "execution_count": 33,
   "metadata": {
    "id": "uuADJ5x1PTu9"
   },
   "outputs": [],
   "source": [
    "def produce_forecast(model, id, lag_start, lag_end, eval=False, Err=False, plot=True, horizon=28, coeff=False):\n",
    "    \n",
    "\n",
    "    if eval:\n",
    "        pilot = prepare_ts(id, eval, lag_start, lag_end, rolling=True)\n",
    "    else:\n",
    "        pilot = prepare_ts(id, sales, lag_start, lag_end, rolling=True)           \n",
    "    \n",
    "    pilot = merge_pilot_sell(id, pilot, sell, calendar)  \n",
    "\n",
    "    #Get_optimal_Lasso_parameters(pilot, horizon) used implicitly in single lag forecast.\n",
    "    forecast = single_lag_forcast(model, pilot, horizon)\n",
    "    \n",
    "\n",
    "    if plot:\n",
    "        return show_me_forecast_graph(forecast, id, horizon)\n",
    "    \n",
    "    elif coeff:\n",
    "      return plotCoefficients(model, pilot.drop(columns=['target']))     \n",
    "\n",
    "    elif Err:\n",
    "        return pd.DataFrame({'id': [id], 'mse_score': [MSE(forecast, horizon, id)], 'mae_score':[MAE(forecast, horizon, id)]})   \n",
    "\n",
    "     \n",
    "\n",
    "\n"
   ]
  },
  {
   "cell_type": "code",
   "execution_count": 163,
   "metadata": {
    "colab": {
     "base_uri": "https://localhost:8080/",
     "height": 468
    },
    "id": "4SC7F1lWPT3L",
    "outputId": "4091e753-5cc4-444d-c58c-1d4550f6d349"
   },
   "outputs": [
    {
     "data": {
      "image/png": "[encoded data removed]",
      "text/plain": [
       "<Figure size 1080x504 with 1 Axes>"
      ]
     },
     "metadata": {
      "needs_background": "light",
      "tags": []
     },
     "output_type": "display_data"
    }
   ],
   "source": [
    "produce_forecast(Lasso(0.1), 'HOBBIES_1_004_WI_1', 28, 38, plot=True, coeff=True)\n"
   ]
  },
  {
   "cell_type": "code",
   "execution_count": null,
   "metadata": {
    "colab": {
     "base_uri": "https://localhost:8080/",
     "height": 34
    },
    "id": "5lzDJtXmdkR4",
    "outputId": "72cfecc1-d219-4aa6-a853-4af326fa07b8"
   },
   "outputs": [
    {
     "name": "stderr",
     "output_type": "stream",
     "text": [
      "100%|██████████| 30490/30490 [03:59<00:00, 127.14it/s]\n"
     ]
    }
   ],
   "source": [
    "#mean of last 28 days as const predictor:\n",
    "\n",
    "scores_n = []  \n",
    "for id in tqdm(sales.id):  \n",
    "    naive_28_forecast = ((eval[eval.id==id].T[-56:-28]).reset_index(drop=True)).mean()  \n",
    "    score = MSE(np.repeat(naive_28_forecast,28), 28, id)\n",
    "    scores_n.append(score)\n",
    "    \n",
    "\n"
   ]
  },
  {
   "cell_type": "code",
   "execution_count": null,
   "metadata": {
    "colab": {
     "base_uri": "https://localhost:8080/",
     "height": 34
    },
    "id": "DgrI5LoSew-b",
    "outputId": "38db3ae9-dd8e-4b36-b2cf-9a01c1eb5bbc"
   },
   "outputs": [
    {
     "data": {
      "text/plain": [
       "4.246668023940345"
      ]
     },
     "execution_count": 155,
     "metadata": {
      "tags": []
     },
     "output_type": "execute_result"
    }
   ],
   "source": [
    "np.asarray(scores_n[0:26000]).mean()"
   ]
  },
  {
   "cell_type": "code",
   "execution_count": null,
   "metadata": {
    "id": "yeBabE0v0Dj4"
   },
   "outputs": [],
   "source": [
    "#MSE Score from using avg of last 28 days as const predictor for the next 28: 5.03\n",
    "#MSE Score from using prev 28 days to predict the next 28 by shiting: 8.00\n",
    "#MSE Score from my model to pred. next 28 days: 5.24\n",
    "\n"
   ]
  },
  {
   "cell_type": "code",
   "execution_count": 5,
   "metadata": {
    "colab": {
     "base_uri": "https://localhost:8080/",
     "height": 1000
    },
    "id": "LeqQcRDnuvEk",
    "outputId": "ed4a8344-46c1-4c08-fec8-99fc8d8bcf76"
   },
   "outputs": [
    {
     "data": {
      "text/plain": [
       "\"from tqdm import tqdm\\n\\n\\nscores = []  \\nscores_n = []\\nfor id in tqdm(sales.id.sample(n=9000)):  \\n    score = produce_forecast(Lasso(0.1), id, 28, 38, Err=True, plot=False)\\n    scores.append(score)\\n    naive_28_forecast = ((eval[eval.id==id].T[-56:-28]).reset_index(drop=True)).mean()  \\n    score_n_mse = MSE(np.repeat(naive_28_forecast,28), 28, id)\\n    score_n_mae = MAE(np.repeat(naive_28_forecast,28), 28, id)\\n    scores_n.append(pd.DataFrame({'id': [id], 'N_mse_score': [score_n_mse], 'N_mae_score':[score_n_mae]}))\\n    \\nscores_df = pd.concat(scores)\\nscores_n_df = pd.concat(scores_n)\\nfinal_df = pd.merge(scores_df, scores_n_df, how='left', on='id')\""
      ]
     },
     "execution_count": 5,
     "metadata": {},
     "output_type": "execute_result"
    }
   ],
   "source": [
    "from tqdm import tqdm\n",
    "\n",
    "\n",
    "scores = []  \n",
    "scores_n = []\n",
    "for id in tqdm(sales.id.sample(n=9000)):  \n",
    "    score = produce_forecast(Lasso(0.1), id, 28, 38, Err=True, plot=False)\n",
    "    scores.append(score)\n",
    "    naive_28_forecast = ((eval[eval.id==id].T[-56:-28]).reset_index(drop=True)).mean()  \n",
    "    score_n_mse = MSE(np.repeat(naive_28_forecast,28), 28, id)\n",
    "    score_n_mae = MAE(np.repeat(naive_28_forecast,28), 28, id)\n",
    "    scores_n.append(pd.DataFrame({'id': [id], 'N_mse_score': [score_n_mse], 'N_mae_score':[score_n_mae]}))\n",
    "    \n",
    "scores_df = pd.concat(scores)\n",
    "scores_n_df = pd.concat(scores_n)\n",
    "final_df = pd.merge(scores_df, scores_n_df, how='left', on='id')\n",
    "\n",
    "  "
   ]
  },
  {
   "cell_type": "code",
   "execution_count": null,
   "metadata": {
    "id": "I9AY2IR0YCun"
   },
   "outputs": [],
   "source": [
    "#results: \n",
    "\n",
    "#28-32, alpha=0.1, mse wins 515 times and mae wins 512 times\n",
    "\n",
    "#28-32, alpha=1.0, lose, lose\n",
    "\n",
    "#28-38, alpha = 0.1, mse wins 563 times and mae wins 502 times BEST"
   ]
  },
  {
   "cell_type": "code",
   "execution_count": null,
   "metadata": {
    "colab": {
     "base_uri": "https://localhost:8080/",
     "height": 34
    },
    "id": "KZILMK587Neb",
    "outputId": "4fc39bd6-0f7c-4ffe-bdb5-f8bdb4f55376"
   },
   "outputs": [
    {
     "data": {
      "text/plain": [
       "4972"
      ]
     },
     "execution_count": 139,
     "metadata": {
      "tags": []
     },
     "output_type": "execute_result"
    }
   ],
   "source": [
    "#how many times better mse:\n",
    "\n",
    "len(final_df[final_df.mse_score<final_df.N_mse_score])"
   ]
  },
  {
   "cell_type": "code",
   "execution_count": null,
   "metadata": {
    "colab": {
     "base_uri": "https://localhost:8080/",
     "height": 34
    },
    "id": "3b_y8uAr7Nl1",
    "outputId": "4732c57e-7594-429c-960b-c019e01a49f6"
   },
   "outputs": [
    {
     "data": {
      "text/plain": [
       "4691"
      ]
     },
     "execution_count": 140,
     "metadata": {
      "tags": []
     },
     "output_type": "execute_result"
    }
   ],
   "source": [
    "#how many times better mae:\n",
    "\n",
    "len(final_df[final_df.mae_score<final_df.N_mae_score])"
   ]
  },
  {
   "cell_type": "code",
   "execution_count": 6,
   "metadata": {
    "colab": {
     "base_uri": "https://localhost:8080/",
     "height": 1000
    },
    "id": "mvhh-JdmB32g",
    "outputId": "c0f3ae7e-786d-4bce-92b2-d695f3df9c91"
   },
   "outputs": [
    {
     "data": {
      "text/plain": [
       "'\"\\n#Finally train the model on the full evaluation set and begin prep for final submission:\\n\\nfrom tqdm import tqdm\\n\\n\\ndic = {}\\nfor id in tqdm(eval.id):\\n\\n    pilot = prepare_ts(id, eval, 28, 38, rolling=True)           \\n    pilot = merge_pilot_sell(id, pilot, sell, calendar)\\n    forecast = single_lag_forcast(Lasso(0.1), pilot, 28)\\n    dic[id] = forecast\\n\\ndf = pd.DataFrame.from_dict(dic).T\\n\\ndf = df.reset_index()\\n\\n\\ndf = df.rename(columns={\\'index\\': \\'id\\'})\\n\\ndf.id = df.id+\\'_evaluation\\'\\n\\nrename = {day:\\'F\\'+str(day+1) for day in range(0,28)}\\n\\ndf = df.rename(columns=rename)'"
      ]
     },
     "execution_count": 6,
     "metadata": {},
     "output_type": "execute_result"
    }
   ],
   "source": [
    "\n",
    "#Finally train the model on the full evaluation set and begin prep for final submission:\n",
    "\n",
    "from tqdm import tqdm\n",
    "\n",
    "\n",
    "dic = {}\n",
    "for id in tqdm(eval.id):\n",
    "\n",
    "    pilot = prepare_ts(id, eval, 28, 38, rolling=True)           \n",
    "    pilot = merge_pilot_sell(id, pilot, sell, calendar)\n",
    "    forecast = single_lag_forcast(Lasso(0.1), pilot, 28)\n",
    "    dic[id] = forecast\n",
    "\n",
    "df = pd.DataFrame.from_dict(dic).T\n",
    "\n",
    "df = df.reset_index()\n",
    "\n",
    "\n",
    "df = df.rename(columns={'index': 'id'})\n",
    "\n",
    "df.id = df.id+'_evaluation'\n",
    "\n",
    "rename = {day:'F'+str(day+1) for day in range(0,28)}\n",
    "\n",
    "df = df.rename(columns=rename)\n",
    "\n",
    "    "
   ]
  },
  {
   "cell_type": "code",
   "execution_count": 206,
   "metadata": {
    "colab": {
     "base_uri": "https://localhost:8080/",
     "height": 424
    },
    "id": "RsaGJf03fQoW",
    "outputId": "54f292a6-8f67-493f-ff79-c74158632e73"
   },
   "outputs": [
    {
     "data": {
      "text/html": [
       "<div>\n",
       "<style scoped>\n",
       "    .dataframe tbody tr th:only-of-type {\n",
       "        vertical-align: middle;\n",
       "    }\n",
       "\n",
       "    .dataframe tbody tr th {\n",
       "        vertical-align: top;\n",
       "    }\n",
       "\n",
       "    .dataframe thead th {\n",
       "        text-align: right;\n",
       "    }\n",
       "</style>\n",
       "<table border=\"1\" class=\"dataframe\">\n",
       "  <thead>\n",
       "    <tr style=\"text-align: right;\">\n",
       "      <th></th>\n",
       "      <th>id</th>\n",
       "      <th>F1</th>\n",
       "      <th>F2</th>\n",
       "      <th>F3</th>\n",
       "      <th>F4</th>\n",
       "      <th>F5</th>\n",
       "      <th>F6</th>\n",
       "      <th>F7</th>\n",
       "      <th>F8</th>\n",
       "      <th>F9</th>\n",
       "      <th>F10</th>\n",
       "      <th>F11</th>\n",
       "      <th>F12</th>\n",
       "      <th>F13</th>\n",
       "      <th>F14</th>\n",
       "      <th>F15</th>\n",
       "      <th>F16</th>\n",
       "      <th>F17</th>\n",
       "      <th>F18</th>\n",
       "      <th>F19</th>\n",
       "      <th>F20</th>\n",
       "      <th>F21</th>\n",
       "      <th>F22</th>\n",
       "      <th>F23</th>\n",
       "      <th>F24</th>\n",
       "      <th>F25</th>\n",
       "      <th>F26</th>\n",
       "      <th>F27</th>\n",
       "      <th>F28</th>\n",
       "    </tr>\n",
       "  </thead>\n",
       "  <tbody>\n",
       "    <tr>\n",
       "      <th>0</th>\n",
       "      <td>HOBBIES_1_001_CA_1_evaluation</td>\n",
       "      <td>0.832548</td>\n",
       "      <td>0.829364</td>\n",
       "      <td>0.829237</td>\n",
       "      <td>0.877866</td>\n",
       "      <td>0.877866</td>\n",
       "      <td>0.988167</td>\n",
       "      <td>1.054774</td>\n",
       "      <td>1.048191</td>\n",
       "      <td>0.963543</td>\n",
       "      <td>0.933367</td>\n",
       "      <td>0.887670</td>\n",
       "      <td>0.878245</td>\n",
       "      <td>0.942722</td>\n",
       "      <td>0.887885</td>\n",
       "      <td>0.926747</td>\n",
       "      <td>0.975122</td>\n",
       "      <td>0.999436</td>\n",
       "      <td>0.978306</td>\n",
       "      <td>1.002746</td>\n",
       "      <td>1.070787</td>\n",
       "      <td>1.027656</td>\n",
       "      <td>1.002620</td>\n",
       "      <td>0.978432</td>\n",
       "      <td>0.954118</td>\n",
       "      <td>0.960486</td>\n",
       "      <td>1.024130</td>\n",
       "      <td>1.039979</td>\n",
       "      <td>1.006272</td>\n",
       "    </tr>\n",
       "    <tr>\n",
       "      <th>1</th>\n",
       "      <td>HOBBIES_1_002_CA_1_evaluation</td>\n",
       "      <td>0.212135</td>\n",
       "      <td>0.218301</td>\n",
       "      <td>0.218301</td>\n",
       "      <td>0.218301</td>\n",
       "      <td>0.218301</td>\n",
       "      <td>0.218301</td>\n",
       "      <td>0.218301</td>\n",
       "      <td>0.218301</td>\n",
       "      <td>0.218301</td>\n",
       "      <td>0.228622</td>\n",
       "      <td>0.228622</td>\n",
       "      <td>0.228622</td>\n",
       "      <td>0.228622</td>\n",
       "      <td>0.228622</td>\n",
       "      <td>0.228622</td>\n",
       "      <td>0.228622</td>\n",
       "      <td>0.228622</td>\n",
       "      <td>0.228622</td>\n",
       "      <td>0.228622</td>\n",
       "      <td>0.238943</td>\n",
       "      <td>0.259584</td>\n",
       "      <td>0.269905</td>\n",
       "      <td>0.280226</td>\n",
       "      <td>0.274060</td>\n",
       "      <td>0.269905</td>\n",
       "      <td>0.269905</td>\n",
       "      <td>0.269905</td>\n",
       "      <td>0.269905</td>\n",
       "    </tr>\n",
       "    <tr>\n",
       "      <th>2</th>\n",
       "      <td>HOBBIES_1_003_CA_1_evaluation</td>\n",
       "      <td>0.501298</td>\n",
       "      <td>0.501298</td>\n",
       "      <td>0.522532</td>\n",
       "      <td>0.543766</td>\n",
       "      <td>0.543766</td>\n",
       "      <td>0.586233</td>\n",
       "      <td>0.586233</td>\n",
       "      <td>0.586233</td>\n",
       "      <td>0.586233</td>\n",
       "      <td>0.586233</td>\n",
       "      <td>0.565000</td>\n",
       "      <td>0.607467</td>\n",
       "      <td>0.628701</td>\n",
       "      <td>0.692403</td>\n",
       "      <td>0.692403</td>\n",
       "      <td>0.692403</td>\n",
       "      <td>0.692403</td>\n",
       "      <td>0.649935</td>\n",
       "      <td>0.628701</td>\n",
       "      <td>0.607467</td>\n",
       "      <td>0.607467</td>\n",
       "      <td>0.586233</td>\n",
       "      <td>0.565000</td>\n",
       "      <td>0.543766</td>\n",
       "      <td>0.586233</td>\n",
       "      <td>0.628701</td>\n",
       "      <td>0.607467</td>\n",
       "      <td>0.607467</td>\n",
       "    </tr>\n",
       "    <tr>\n",
       "      <th>3</th>\n",
       "      <td>HOBBIES_1_004_CA_1_evaluation</td>\n",
       "      <td>1.510639</td>\n",
       "      <td>1.179565</td>\n",
       "      <td>1.227706</td>\n",
       "      <td>1.424952</td>\n",
       "      <td>1.582900</td>\n",
       "      <td>2.770526</td>\n",
       "      <td>3.269138</td>\n",
       "      <td>1.698137</td>\n",
       "      <td>1.678001</td>\n",
       "      <td>1.623931</td>\n",
       "      <td>1.545644</td>\n",
       "      <td>1.554781</td>\n",
       "      <td>2.890199</td>\n",
       "      <td>3.345990</td>\n",
       "      <td>1.609626</td>\n",
       "      <td>1.404397</td>\n",
       "      <td>1.460306</td>\n",
       "      <td>1.494961</td>\n",
       "      <td>1.492172</td>\n",
       "      <td>2.634171</td>\n",
       "      <td>3.128048</td>\n",
       "      <td>1.630312</td>\n",
       "      <td>1.442644</td>\n",
       "      <td>1.248901</td>\n",
       "      <td>1.347029</td>\n",
       "      <td>1.435429</td>\n",
       "      <td>2.728409</td>\n",
       "      <td>3.120280</td>\n",
       "    </tr>\n",
       "    <tr>\n",
       "      <th>4</th>\n",
       "      <td>HOBBIES_1_005_CA_1_evaluation</td>\n",
       "      <td>1.124765</td>\n",
       "      <td>1.124765</td>\n",
       "      <td>1.124274</td>\n",
       "      <td>1.160845</td>\n",
       "      <td>1.124274</td>\n",
       "      <td>1.398411</td>\n",
       "      <td>1.434982</td>\n",
       "      <td>1.124274</td>\n",
       "      <td>1.124765</td>\n",
       "      <td>1.147101</td>\n",
       "      <td>1.147101</td>\n",
       "      <td>1.214108</td>\n",
       "      <td>1.577097</td>\n",
       "      <td>1.636495</td>\n",
       "      <td>1.310569</td>\n",
       "      <td>1.340514</td>\n",
       "      <td>1.348123</td>\n",
       "      <td>1.385186</td>\n",
       "      <td>1.355241</td>\n",
       "      <td>1.673558</td>\n",
       "      <td>1.636495</td>\n",
       "      <td>1.325787</td>\n",
       "      <td>1.325787</td>\n",
       "      <td>1.318178</td>\n",
       "      <td>1.288233</td>\n",
       "      <td>1.302960</td>\n",
       "      <td>1.621277</td>\n",
       "      <td>1.561388</td>\n",
       "    </tr>\n",
       "    <tr>\n",
       "      <th>...</th>\n",
       "      <td>...</td>\n",
       "      <td>...</td>\n",
       "      <td>...</td>\n",
       "      <td>...</td>\n",
       "      <td>...</td>\n",
       "      <td>...</td>\n",
       "      <td>...</td>\n",
       "      <td>...</td>\n",
       "      <td>...</td>\n",
       "      <td>...</td>\n",
       "      <td>...</td>\n",
       "      <td>...</td>\n",
       "      <td>...</td>\n",
       "      <td>...</td>\n",
       "      <td>...</td>\n",
       "      <td>...</td>\n",
       "      <td>...</td>\n",
       "      <td>...</td>\n",
       "      <td>...</td>\n",
       "      <td>...</td>\n",
       "      <td>...</td>\n",
       "      <td>...</td>\n",
       "      <td>...</td>\n",
       "      <td>...</td>\n",
       "      <td>...</td>\n",
       "      <td>...</td>\n",
       "      <td>...</td>\n",
       "      <td>...</td>\n",
       "      <td>...</td>\n",
       "    </tr>\n",
       "    <tr>\n",
       "      <th>30485</th>\n",
       "      <td>FOODS_3_823_WI_3_evaluation</td>\n",
       "      <td>0.255451</td>\n",
       "      <td>0.255451</td>\n",
       "      <td>0.255451</td>\n",
       "      <td>0.303214</td>\n",
       "      <td>0.350976</td>\n",
       "      <td>0.350976</td>\n",
       "      <td>0.350976</td>\n",
       "      <td>0.350976</td>\n",
       "      <td>0.398739</td>\n",
       "      <td>0.398739</td>\n",
       "      <td>0.398739</td>\n",
       "      <td>0.422620</td>\n",
       "      <td>0.446501</td>\n",
       "      <td>0.470383</td>\n",
       "      <td>0.461053</td>\n",
       "      <td>0.422620</td>\n",
       "      <td>0.446501</td>\n",
       "      <td>0.446501</td>\n",
       "      <td>0.461053</td>\n",
       "      <td>0.422620</td>\n",
       "      <td>0.494264</td>\n",
       "      <td>0.494264</td>\n",
       "      <td>0.518145</td>\n",
       "      <td>0.542026</td>\n",
       "      <td>0.537362</td>\n",
       "      <td>0.518145</td>\n",
       "      <td>0.542026</td>\n",
       "      <td>0.561243</td>\n",
       "    </tr>\n",
       "    <tr>\n",
       "      <th>30486</th>\n",
       "      <td>FOODS_3_824_WI_3_evaluation</td>\n",
       "      <td>0.300394</td>\n",
       "      <td>0.321920</td>\n",
       "      <td>0.343446</td>\n",
       "      <td>0.364972</td>\n",
       "      <td>0.364972</td>\n",
       "      <td>0.343682</td>\n",
       "      <td>0.322392</td>\n",
       "      <td>0.279813</td>\n",
       "      <td>0.301339</td>\n",
       "      <td>0.301339</td>\n",
       "      <td>0.344155</td>\n",
       "      <td>0.343918</td>\n",
       "      <td>0.322156</td>\n",
       "      <td>0.300866</td>\n",
       "      <td>0.279576</td>\n",
       "      <td>0.258286</td>\n",
       "      <td>0.258286</td>\n",
       "      <td>0.258050</td>\n",
       "      <td>0.257814</td>\n",
       "      <td>0.257578</td>\n",
       "      <td>0.257342</td>\n",
       "      <td>0.257342</td>\n",
       "      <td>0.257342</td>\n",
       "      <td>0.257342</td>\n",
       "      <td>0.278868</td>\n",
       "      <td>0.278868</td>\n",
       "      <td>0.279104</td>\n",
       "      <td>0.279104</td>\n",
       "    </tr>\n",
       "    <tr>\n",
       "      <th>30487</th>\n",
       "      <td>FOODS_3_825_WI_3_evaluation</td>\n",
       "      <td>0.814239</td>\n",
       "      <td>0.806810</td>\n",
       "      <td>0.830400</td>\n",
       "      <td>0.850022</td>\n",
       "      <td>0.821188</td>\n",
       "      <td>0.865905</td>\n",
       "      <td>0.866145</td>\n",
       "      <td>0.868129</td>\n",
       "      <td>0.853991</td>\n",
       "      <td>0.847042</td>\n",
       "      <td>0.842836</td>\n",
       "      <td>0.840852</td>\n",
       "      <td>0.824450</td>\n",
       "      <td>0.815517</td>\n",
       "      <td>0.770560</td>\n",
       "      <td>0.790701</td>\n",
       "      <td>0.803564</td>\n",
       "      <td>0.826195</td>\n",
       "      <td>0.822226</td>\n",
       "      <td>0.775525</td>\n",
       "      <td>0.754914</td>\n",
       "      <td>0.743947</td>\n",
       "      <td>0.729089</td>\n",
       "      <td>0.752679</td>\n",
       "      <td>0.741762</td>\n",
       "      <td>0.734534</td>\n",
       "      <td>0.719636</td>\n",
       "      <td>0.755660</td>\n",
       "    </tr>\n",
       "    <tr>\n",
       "      <th>30488</th>\n",
       "      <td>FOODS_3_826_WI_3_evaluation</td>\n",
       "      <td>0.853568</td>\n",
       "      <td>0.938337</td>\n",
       "      <td>0.938337</td>\n",
       "      <td>0.966593</td>\n",
       "      <td>1.023106</td>\n",
       "      <td>1.051362</td>\n",
       "      <td>1.023106</td>\n",
       "      <td>1.051362</td>\n",
       "      <td>1.023106</td>\n",
       "      <td>1.023106</td>\n",
       "      <td>1.051362</td>\n",
       "      <td>1.023106</td>\n",
       "      <td>1.051362</td>\n",
       "      <td>1.023106</td>\n",
       "      <td>1.051362</td>\n",
       "      <td>1.023106</td>\n",
       "      <td>1.079618</td>\n",
       "      <td>1.023106</td>\n",
       "      <td>1.051362</td>\n",
       "      <td>1.079618</td>\n",
       "      <td>1.079618</td>\n",
       "      <td>1.192643</td>\n",
       "      <td>1.362181</td>\n",
       "      <td>1.333925</td>\n",
       "      <td>1.362181</td>\n",
       "      <td>1.305669</td>\n",
       "      <td>1.305669</td>\n",
       "      <td>1.220900</td>\n",
       "    </tr>\n",
       "    <tr>\n",
       "      <th>30489</th>\n",
       "      <td>FOODS_3_827_WI_3_evaluation</td>\n",
       "      <td>1.271816</td>\n",
       "      <td>1.291742</td>\n",
       "      <td>1.182531</td>\n",
       "      <td>0.964755</td>\n",
       "      <td>1.226893</td>\n",
       "      <td>1.272501</td>\n",
       "      <td>1.218254</td>\n",
       "      <td>1.213072</td>\n",
       "      <td>1.234732</td>\n",
       "      <td>1.130695</td>\n",
       "      <td>0.931926</td>\n",
       "      <td>1.209623</td>\n",
       "      <td>1.260422</td>\n",
       "      <td>1.214810</td>\n",
       "      <td>1.218266</td>\n",
       "      <td>1.241656</td>\n",
       "      <td>1.142806</td>\n",
       "      <td>0.944033</td>\n",
       "      <td>1.219996</td>\n",
       "      <td>1.275977</td>\n",
       "      <td>1.226909</td>\n",
       "      <td>1.244190</td>\n",
       "      <td>1.283131</td>\n",
       "      <td>1.184281</td>\n",
       "      <td>1.158754</td>\n",
       "      <td>1.604507</td>\n",
       "      <td>1.670857</td>\n",
       "      <td>1.625245</td>\n",
       "    </tr>\n",
       "  </tbody>\n",
       "</table>\n",
       "<p>30490 rows × 29 columns</p>\n",
       "</div>"
      ],
      "text/plain": [
       "                                  id        F1        F2        F3        F4  \\\n",
       "0      HOBBIES_1_001_CA_1_evaluation  0.832548  0.829364  0.829237  0.877866   \n",
       "1      HOBBIES_1_002_CA_1_evaluation  0.212135  0.218301  0.218301  0.218301   \n",
       "2      HOBBIES_1_003_CA_1_evaluation  0.501298  0.501298  0.522532  0.543766   \n",
       "3      HOBBIES_1_004_CA_1_evaluation  1.510639  1.179565  1.227706  1.424952   \n",
       "4      HOBBIES_1_005_CA_1_evaluation  1.124765  1.124765  1.124274  1.160845   \n",
       "...                              ...       ...       ...       ...       ...   \n",
       "30485    FOODS_3_823_WI_3_evaluation  0.255451  0.255451  0.255451  0.303214   \n",
       "30486    FOODS_3_824_WI_3_evaluation  0.300394  0.321920  0.343446  0.364972   \n",
       "30487    FOODS_3_825_WI_3_evaluation  0.814239  0.806810  0.830400  0.850022   \n",
       "30488    FOODS_3_826_WI_3_evaluation  0.853568  0.938337  0.938337  0.966593   \n",
       "30489    FOODS_3_827_WI_3_evaluation  1.271816  1.291742  1.182531  0.964755   \n",
       "\n",
       "             F5        F6        F7        F8        F9       F10       F11  \\\n",
       "0      0.877866  0.988167  1.054774  1.048191  0.963543  0.933367  0.887670   \n",
       "1      0.218301  0.218301  0.218301  0.218301  0.218301  0.228622  0.228622   \n",
       "2      0.543766  0.586233  0.586233  0.586233  0.586233  0.586233  0.565000   \n",
       "3      1.582900  2.770526  3.269138  1.698137  1.678001  1.623931  1.545644   \n",
       "4      1.124274  1.398411  1.434982  1.124274  1.124765  1.147101  1.147101   \n",
       "...         ...       ...       ...       ...       ...       ...       ...   \n",
       "30485  0.350976  0.350976  0.350976  0.350976  0.398739  0.398739  0.398739   \n",
       "30486  0.364972  0.343682  0.322392  0.279813  0.301339  0.301339  0.344155   \n",
       "30487  0.821188  0.865905  0.866145  0.868129  0.853991  0.847042  0.842836   \n",
       "30488  1.023106  1.051362  1.023106  1.051362  1.023106  1.023106  1.051362   \n",
       "30489  1.226893  1.272501  1.218254  1.213072  1.234732  1.130695  0.931926   \n",
       "\n",
       "            F12       F13       F14       F15       F16       F17       F18  \\\n",
       "0      0.878245  0.942722  0.887885  0.926747  0.975122  0.999436  0.978306   \n",
       "1      0.228622  0.228622  0.228622  0.228622  0.228622  0.228622  0.228622   \n",
       "2      0.607467  0.628701  0.692403  0.692403  0.692403  0.692403  0.649935   \n",
       "3      1.554781  2.890199  3.345990  1.609626  1.404397  1.460306  1.494961   \n",
       "4      1.214108  1.577097  1.636495  1.310569  1.340514  1.348123  1.385186   \n",
       "...         ...       ...       ...       ...       ...       ...       ...   \n",
       "30485  0.422620  0.446501  0.470383  0.461053  0.422620  0.446501  0.446501   \n",
       "30486  0.343918  0.322156  0.300866  0.279576  0.258286  0.258286  0.258050   \n",
       "30487  0.840852  0.824450  0.815517  0.770560  0.790701  0.803564  0.826195   \n",
       "30488  1.023106  1.051362  1.023106  1.051362  1.023106  1.079618  1.023106   \n",
       "30489  1.209623  1.260422  1.214810  1.218266  1.241656  1.142806  0.944033   \n",
       "\n",
       "            F19       F20       F21       F22       F23       F24       F25  \\\n",
       "0      1.002746  1.070787  1.027656  1.002620  0.978432  0.954118  0.960486   \n",
       "1      0.228622  0.238943  0.259584  0.269905  0.280226  0.274060  0.269905   \n",
       "2      0.628701  0.607467  0.607467  0.586233  0.565000  0.543766  0.586233   \n",
       "3      1.492172  2.634171  3.128048  1.630312  1.442644  1.248901  1.347029   \n",
       "4      1.355241  1.673558  1.636495  1.325787  1.325787  1.318178  1.288233   \n",
       "...         ...       ...       ...       ...       ...       ...       ...   \n",
       "30485  0.461053  0.422620  0.494264  0.494264  0.518145  0.542026  0.537362   \n",
       "30486  0.257814  0.257578  0.257342  0.257342  0.257342  0.257342  0.278868   \n",
       "30487  0.822226  0.775525  0.754914  0.743947  0.729089  0.752679  0.741762   \n",
       "30488  1.051362  1.079618  1.079618  1.192643  1.362181  1.333925  1.362181   \n",
       "30489  1.219996  1.275977  1.226909  1.244190  1.283131  1.184281  1.158754   \n",
       "\n",
       "            F26       F27       F28  \n",
       "0      1.024130  1.039979  1.006272  \n",
       "1      0.269905  0.269905  0.269905  \n",
       "2      0.628701  0.607467  0.607467  \n",
       "3      1.435429  2.728409  3.120280  \n",
       "4      1.302960  1.621277  1.561388  \n",
       "...         ...       ...       ...  \n",
       "30485  0.518145  0.542026  0.561243  \n",
       "30486  0.278868  0.279104  0.279104  \n",
       "30487  0.734534  0.719636  0.755660  \n",
       "30488  1.305669  1.305669  1.220900  \n",
       "30489  1.604507  1.670857  1.625245  \n",
       "\n",
       "[30490 rows x 29 columns]"
      ]
     },
     "execution_count": 206,
     "metadata": {
      "tags": []
     },
     "output_type": "execute_result"
    }
   ],
   "source": [
    "df"
   ]
  },
  {
   "cell_type": "code",
   "execution_count": 7,
   "metadata": {
    "colab": {
     "base_uri": "https://localhost:8080/",
     "height": 424
    },
    "id": "wW7uMw_efQtl",
    "outputId": "db7b3bb3-babf-4857-d4db-a0dc031b7349"
   },
   "outputs": [
    {
     "data": {
      "text/plain": [
       "\"eval.id = eval.id+'_validation'\\n\\nvalid_part = eval[['id']+list(range(1914,1942))]\\n\\nrename = {day:'F'+str(day-1913) for day in range(1914,1942)}\\n\\nvalid_part = valid_part.rename(columns=rename)\""
      ]
     },
     "execution_count": 7,
     "metadata": {},
     "output_type": "execute_result"
    }
   ],
   "source": [
    "eval.id = eval.id+'_validation'\n",
    "\n",
    "valid_part = eval[['id']+list(range(1914,1942))]\n",
    "\n",
    "rename = {day:'F'+str(day-1913) for day in range(1914,1942)}\n",
    "\n",
    "valid_part = valid_part.rename(columns=rename)"
   ]
  },
  {
   "cell_type": "code",
   "execution_count": 220,
   "metadata": {
    "colab": {
     "base_uri": "https://localhost:8080/",
     "height": 424
    },
    "id": "gXq3NWZLvX4d",
    "outputId": "a6187295-2088-40cb-d2ce-8e1c175a76f3"
   },
   "outputs": [
    {
     "data": {
      "text/html": [
       "<div>\n",
       "<style scoped>\n",
       "    .dataframe tbody tr th:only-of-type {\n",
       "        vertical-align: middle;\n",
       "    }\n",
       "\n",
       "    .dataframe tbody tr th {\n",
       "        vertical-align: top;\n",
       "    }\n",
       "\n",
       "    .dataframe thead th {\n",
       "        text-align: right;\n",
       "    }\n",
       "</style>\n",
       "<table border=\"1\" class=\"dataframe\">\n",
       "  <thead>\n",
       "    <tr style=\"text-align: right;\">\n",
       "      <th></th>\n",
       "      <th>id</th>\n",
       "      <th>F1</th>\n",
       "      <th>F2</th>\n",
       "      <th>F3</th>\n",
       "      <th>F4</th>\n",
       "      <th>F5</th>\n",
       "      <th>F6</th>\n",
       "      <th>F7</th>\n",
       "      <th>F8</th>\n",
       "      <th>F9</th>\n",
       "      <th>F10</th>\n",
       "      <th>F11</th>\n",
       "      <th>F12</th>\n",
       "      <th>F13</th>\n",
       "      <th>F14</th>\n",
       "      <th>F15</th>\n",
       "      <th>F16</th>\n",
       "      <th>F17</th>\n",
       "      <th>F18</th>\n",
       "      <th>F19</th>\n",
       "      <th>F20</th>\n",
       "      <th>F21</th>\n",
       "      <th>F22</th>\n",
       "      <th>F23</th>\n",
       "      <th>F24</th>\n",
       "      <th>F25</th>\n",
       "      <th>F26</th>\n",
       "      <th>F27</th>\n",
       "      <th>F28</th>\n",
       "    </tr>\n",
       "  </thead>\n",
       "  <tbody>\n",
       "    <tr>\n",
       "      <th>0</th>\n",
       "      <td>HOBBIES_1_001_CA_1_validation</td>\n",
       "      <td>0.000000</td>\n",
       "      <td>0.000000</td>\n",
       "      <td>0.000000</td>\n",
       "      <td>2.000000</td>\n",
       "      <td>0.000000</td>\n",
       "      <td>3.000000</td>\n",
       "      <td>5.000000</td>\n",
       "      <td>0.000000</td>\n",
       "      <td>0.000000</td>\n",
       "      <td>1.000000</td>\n",
       "      <td>1.000000</td>\n",
       "      <td>0.000000</td>\n",
       "      <td>2.000000</td>\n",
       "      <td>1.000000</td>\n",
       "      <td>2.000000</td>\n",
       "      <td>2.000000</td>\n",
       "      <td>1.000000</td>\n",
       "      <td>0.000000</td>\n",
       "      <td>2.000000</td>\n",
       "      <td>4.000000</td>\n",
       "      <td>0.000000</td>\n",
       "      <td>0.000000</td>\n",
       "      <td>0.000000</td>\n",
       "      <td>0.000000</td>\n",
       "      <td>3.000000</td>\n",
       "      <td>3.000000</td>\n",
       "      <td>0.000000</td>\n",
       "      <td>1.000000</td>\n",
       "    </tr>\n",
       "    <tr>\n",
       "      <th>1</th>\n",
       "      <td>HOBBIES_1_002_CA_1_validation</td>\n",
       "      <td>0.000000</td>\n",
       "      <td>1.000000</td>\n",
       "      <td>0.000000</td>\n",
       "      <td>0.000000</td>\n",
       "      <td>0.000000</td>\n",
       "      <td>0.000000</td>\n",
       "      <td>0.000000</td>\n",
       "      <td>0.000000</td>\n",
       "      <td>0.000000</td>\n",
       "      <td>1.000000</td>\n",
       "      <td>0.000000</td>\n",
       "      <td>0.000000</td>\n",
       "      <td>0.000000</td>\n",
       "      <td>0.000000</td>\n",
       "      <td>0.000000</td>\n",
       "      <td>0.000000</td>\n",
       "      <td>0.000000</td>\n",
       "      <td>0.000000</td>\n",
       "      <td>0.000000</td>\n",
       "      <td>1.000000</td>\n",
       "      <td>2.000000</td>\n",
       "      <td>1.000000</td>\n",
       "      <td>1.000000</td>\n",
       "      <td>0.000000</td>\n",
       "      <td>0.000000</td>\n",
       "      <td>0.000000</td>\n",
       "      <td>0.000000</td>\n",
       "      <td>0.000000</td>\n",
       "    </tr>\n",
       "    <tr>\n",
       "      <th>2</th>\n",
       "      <td>HOBBIES_1_003_CA_1_validation</td>\n",
       "      <td>0.000000</td>\n",
       "      <td>0.000000</td>\n",
       "      <td>1.000000</td>\n",
       "      <td>1.000000</td>\n",
       "      <td>0.000000</td>\n",
       "      <td>2.000000</td>\n",
       "      <td>1.000000</td>\n",
       "      <td>0.000000</td>\n",
       "      <td>0.000000</td>\n",
       "      <td>0.000000</td>\n",
       "      <td>0.000000</td>\n",
       "      <td>2.000000</td>\n",
       "      <td>1.000000</td>\n",
       "      <td>3.000000</td>\n",
       "      <td>0.000000</td>\n",
       "      <td>0.000000</td>\n",
       "      <td>1.000000</td>\n",
       "      <td>0.000000</td>\n",
       "      <td>1.000000</td>\n",
       "      <td>0.000000</td>\n",
       "      <td>2.000000</td>\n",
       "      <td>0.000000</td>\n",
       "      <td>0.000000</td>\n",
       "      <td>0.000000</td>\n",
       "      <td>2.000000</td>\n",
       "      <td>3.000000</td>\n",
       "      <td>0.000000</td>\n",
       "      <td>1.000000</td>\n",
       "    </tr>\n",
       "    <tr>\n",
       "      <th>3</th>\n",
       "      <td>HOBBIES_1_004_CA_1_validation</td>\n",
       "      <td>0.000000</td>\n",
       "      <td>0.000000</td>\n",
       "      <td>1.000000</td>\n",
       "      <td>2.000000</td>\n",
       "      <td>4.000000</td>\n",
       "      <td>1.000000</td>\n",
       "      <td>6.000000</td>\n",
       "      <td>4.000000</td>\n",
       "      <td>0.000000</td>\n",
       "      <td>0.000000</td>\n",
       "      <td>0.000000</td>\n",
       "      <td>2.000000</td>\n",
       "      <td>2.000000</td>\n",
       "      <td>4.000000</td>\n",
       "      <td>2.000000</td>\n",
       "      <td>1.000000</td>\n",
       "      <td>1.000000</td>\n",
       "      <td>1.000000</td>\n",
       "      <td>1.000000</td>\n",
       "      <td>1.000000</td>\n",
       "      <td>0.000000</td>\n",
       "      <td>4.000000</td>\n",
       "      <td>0.000000</td>\n",
       "      <td>1.000000</td>\n",
       "      <td>3.000000</td>\n",
       "      <td>0.000000</td>\n",
       "      <td>2.000000</td>\n",
       "      <td>6.000000</td>\n",
       "    </tr>\n",
       "    <tr>\n",
       "      <th>4</th>\n",
       "      <td>HOBBIES_1_005_CA_1_validation</td>\n",
       "      <td>1.000000</td>\n",
       "      <td>0.000000</td>\n",
       "      <td>2.000000</td>\n",
       "      <td>3.000000</td>\n",
       "      <td>1.000000</td>\n",
       "      <td>0.000000</td>\n",
       "      <td>3.000000</td>\n",
       "      <td>2.000000</td>\n",
       "      <td>3.000000</td>\n",
       "      <td>1.000000</td>\n",
       "      <td>1.000000</td>\n",
       "      <td>3.000000</td>\n",
       "      <td>2.000000</td>\n",
       "      <td>3.000000</td>\n",
       "      <td>2.000000</td>\n",
       "      <td>2.000000</td>\n",
       "      <td>2.000000</td>\n",
       "      <td>2.000000</td>\n",
       "      <td>0.000000</td>\n",
       "      <td>0.000000</td>\n",
       "      <td>0.000000</td>\n",
       "      <td>2.000000</td>\n",
       "      <td>1.000000</td>\n",
       "      <td>0.000000</td>\n",
       "      <td>0.000000</td>\n",
       "      <td>2.000000</td>\n",
       "      <td>1.000000</td>\n",
       "      <td>0.000000</td>\n",
       "    </tr>\n",
       "    <tr>\n",
       "      <th>...</th>\n",
       "      <td>...</td>\n",
       "      <td>...</td>\n",
       "      <td>...</td>\n",
       "      <td>...</td>\n",
       "      <td>...</td>\n",
       "      <td>...</td>\n",
       "      <td>...</td>\n",
       "      <td>...</td>\n",
       "      <td>...</td>\n",
       "      <td>...</td>\n",
       "      <td>...</td>\n",
       "      <td>...</td>\n",
       "      <td>...</td>\n",
       "      <td>...</td>\n",
       "      <td>...</td>\n",
       "      <td>...</td>\n",
       "      <td>...</td>\n",
       "      <td>...</td>\n",
       "      <td>...</td>\n",
       "      <td>...</td>\n",
       "      <td>...</td>\n",
       "      <td>...</td>\n",
       "      <td>...</td>\n",
       "      <td>...</td>\n",
       "      <td>...</td>\n",
       "      <td>...</td>\n",
       "      <td>...</td>\n",
       "      <td>...</td>\n",
       "      <td>...</td>\n",
       "    </tr>\n",
       "    <tr>\n",
       "      <th>30485</th>\n",
       "      <td>FOODS_3_823_WI_3_evaluation</td>\n",
       "      <td>0.255451</td>\n",
       "      <td>0.255451</td>\n",
       "      <td>0.255451</td>\n",
       "      <td>0.303214</td>\n",
       "      <td>0.350976</td>\n",
       "      <td>0.350976</td>\n",
       "      <td>0.350976</td>\n",
       "      <td>0.350976</td>\n",
       "      <td>0.398739</td>\n",
       "      <td>0.398739</td>\n",
       "      <td>0.398739</td>\n",
       "      <td>0.422620</td>\n",
       "      <td>0.446501</td>\n",
       "      <td>0.470383</td>\n",
       "      <td>0.461053</td>\n",
       "      <td>0.422620</td>\n",
       "      <td>0.446501</td>\n",
       "      <td>0.446501</td>\n",
       "      <td>0.461053</td>\n",
       "      <td>0.422620</td>\n",
       "      <td>0.494264</td>\n",
       "      <td>0.494264</td>\n",
       "      <td>0.518145</td>\n",
       "      <td>0.542026</td>\n",
       "      <td>0.537362</td>\n",
       "      <td>0.518145</td>\n",
       "      <td>0.542026</td>\n",
       "      <td>0.561243</td>\n",
       "    </tr>\n",
       "    <tr>\n",
       "      <th>30486</th>\n",
       "      <td>FOODS_3_824_WI_3_evaluation</td>\n",
       "      <td>0.300394</td>\n",
       "      <td>0.321920</td>\n",
       "      <td>0.343446</td>\n",
       "      <td>0.364972</td>\n",
       "      <td>0.364972</td>\n",
       "      <td>0.343682</td>\n",
       "      <td>0.322392</td>\n",
       "      <td>0.279813</td>\n",
       "      <td>0.301339</td>\n",
       "      <td>0.301339</td>\n",
       "      <td>0.344155</td>\n",
       "      <td>0.343918</td>\n",
       "      <td>0.322156</td>\n",
       "      <td>0.300866</td>\n",
       "      <td>0.279576</td>\n",
       "      <td>0.258286</td>\n",
       "      <td>0.258286</td>\n",
       "      <td>0.258050</td>\n",
       "      <td>0.257814</td>\n",
       "      <td>0.257578</td>\n",
       "      <td>0.257342</td>\n",
       "      <td>0.257342</td>\n",
       "      <td>0.257342</td>\n",
       "      <td>0.257342</td>\n",
       "      <td>0.278868</td>\n",
       "      <td>0.278868</td>\n",
       "      <td>0.279104</td>\n",
       "      <td>0.279104</td>\n",
       "    </tr>\n",
       "    <tr>\n",
       "      <th>30487</th>\n",
       "      <td>FOODS_3_825_WI_3_evaluation</td>\n",
       "      <td>0.814239</td>\n",
       "      <td>0.806810</td>\n",
       "      <td>0.830400</td>\n",
       "      <td>0.850022</td>\n",
       "      <td>0.821188</td>\n",
       "      <td>0.865905</td>\n",
       "      <td>0.866145</td>\n",
       "      <td>0.868129</td>\n",
       "      <td>0.853991</td>\n",
       "      <td>0.847042</td>\n",
       "      <td>0.842836</td>\n",
       "      <td>0.840852</td>\n",
       "      <td>0.824450</td>\n",
       "      <td>0.815517</td>\n",
       "      <td>0.770560</td>\n",
       "      <td>0.790701</td>\n",
       "      <td>0.803564</td>\n",
       "      <td>0.826195</td>\n",
       "      <td>0.822226</td>\n",
       "      <td>0.775525</td>\n",
       "      <td>0.754914</td>\n",
       "      <td>0.743947</td>\n",
       "      <td>0.729089</td>\n",
       "      <td>0.752679</td>\n",
       "      <td>0.741762</td>\n",
       "      <td>0.734534</td>\n",
       "      <td>0.719636</td>\n",
       "      <td>0.755660</td>\n",
       "    </tr>\n",
       "    <tr>\n",
       "      <th>30488</th>\n",
       "      <td>FOODS_3_826_WI_3_evaluation</td>\n",
       "      <td>0.853568</td>\n",
       "      <td>0.938337</td>\n",
       "      <td>0.938337</td>\n",
       "      <td>0.966593</td>\n",
       "      <td>1.023106</td>\n",
       "      <td>1.051362</td>\n",
       "      <td>1.023106</td>\n",
       "      <td>1.051362</td>\n",
       "      <td>1.023106</td>\n",
       "      <td>1.023106</td>\n",
       "      <td>1.051362</td>\n",
       "      <td>1.023106</td>\n",
       "      <td>1.051362</td>\n",
       "      <td>1.023106</td>\n",
       "      <td>1.051362</td>\n",
       "      <td>1.023106</td>\n",
       "      <td>1.079618</td>\n",
       "      <td>1.023106</td>\n",
       "      <td>1.051362</td>\n",
       "      <td>1.079618</td>\n",
       "      <td>1.079618</td>\n",
       "      <td>1.192643</td>\n",
       "      <td>1.362181</td>\n",
       "      <td>1.333925</td>\n",
       "      <td>1.362181</td>\n",
       "      <td>1.305669</td>\n",
       "      <td>1.305669</td>\n",
       "      <td>1.220900</td>\n",
       "    </tr>\n",
       "    <tr>\n",
       "      <th>30489</th>\n",
       "      <td>FOODS_3_827_WI_3_evaluation</td>\n",
       "      <td>1.271816</td>\n",
       "      <td>1.291742</td>\n",
       "      <td>1.182531</td>\n",
       "      <td>0.964755</td>\n",
       "      <td>1.226893</td>\n",
       "      <td>1.272501</td>\n",
       "      <td>1.218254</td>\n",
       "      <td>1.213072</td>\n",
       "      <td>1.234732</td>\n",
       "      <td>1.130695</td>\n",
       "      <td>0.931926</td>\n",
       "      <td>1.209623</td>\n",
       "      <td>1.260422</td>\n",
       "      <td>1.214810</td>\n",
       "      <td>1.218266</td>\n",
       "      <td>1.241656</td>\n",
       "      <td>1.142806</td>\n",
       "      <td>0.944033</td>\n",
       "      <td>1.219996</td>\n",
       "      <td>1.275977</td>\n",
       "      <td>1.226909</td>\n",
       "      <td>1.244190</td>\n",
       "      <td>1.283131</td>\n",
       "      <td>1.184281</td>\n",
       "      <td>1.158754</td>\n",
       "      <td>1.604507</td>\n",
       "      <td>1.670857</td>\n",
       "      <td>1.625245</td>\n",
       "    </tr>\n",
       "  </tbody>\n",
       "</table>\n",
       "<p>60980 rows × 29 columns</p>\n",
       "</div>"
      ],
      "text/plain": [
       "                                  id        F1        F2        F3        F4  \\\n",
       "0      HOBBIES_1_001_CA_1_validation  0.000000  0.000000  0.000000  2.000000   \n",
       "1      HOBBIES_1_002_CA_1_validation  0.000000  1.000000  0.000000  0.000000   \n",
       "2      HOBBIES_1_003_CA_1_validation  0.000000  0.000000  1.000000  1.000000   \n",
       "3      HOBBIES_1_004_CA_1_validation  0.000000  0.000000  1.000000  2.000000   \n",
       "4      HOBBIES_1_005_CA_1_validation  1.000000  0.000000  2.000000  3.000000   \n",
       "...                              ...       ...       ...       ...       ...   \n",
       "30485    FOODS_3_823_WI_3_evaluation  0.255451  0.255451  0.255451  0.303214   \n",
       "30486    FOODS_3_824_WI_3_evaluation  0.300394  0.321920  0.343446  0.364972   \n",
       "30487    FOODS_3_825_WI_3_evaluation  0.814239  0.806810  0.830400  0.850022   \n",
       "30488    FOODS_3_826_WI_3_evaluation  0.853568  0.938337  0.938337  0.966593   \n",
       "30489    FOODS_3_827_WI_3_evaluation  1.271816  1.291742  1.182531  0.964755   \n",
       "\n",
       "             F5        F6        F7        F8        F9       F10       F11  \\\n",
       "0      0.000000  3.000000  5.000000  0.000000  0.000000  1.000000  1.000000   \n",
       "1      0.000000  0.000000  0.000000  0.000000  0.000000  1.000000  0.000000   \n",
       "2      0.000000  2.000000  1.000000  0.000000  0.000000  0.000000  0.000000   \n",
       "3      4.000000  1.000000  6.000000  4.000000  0.000000  0.000000  0.000000   \n",
       "4      1.000000  0.000000  3.000000  2.000000  3.000000  1.000000  1.000000   \n",
       "...         ...       ...       ...       ...       ...       ...       ...   \n",
       "30485  0.350976  0.350976  0.350976  0.350976  0.398739  0.398739  0.398739   \n",
       "30486  0.364972  0.343682  0.322392  0.279813  0.301339  0.301339  0.344155   \n",
       "30487  0.821188  0.865905  0.866145  0.868129  0.853991  0.847042  0.842836   \n",
       "30488  1.023106  1.051362  1.023106  1.051362  1.023106  1.023106  1.051362   \n",
       "30489  1.226893  1.272501  1.218254  1.213072  1.234732  1.130695  0.931926   \n",
       "\n",
       "            F12       F13       F14       F15       F16       F17       F18  \\\n",
       "0      0.000000  2.000000  1.000000  2.000000  2.000000  1.000000  0.000000   \n",
       "1      0.000000  0.000000  0.000000  0.000000  0.000000  0.000000  0.000000   \n",
       "2      2.000000  1.000000  3.000000  0.000000  0.000000  1.000000  0.000000   \n",
       "3      2.000000  2.000000  4.000000  2.000000  1.000000  1.000000  1.000000   \n",
       "4      3.000000  2.000000  3.000000  2.000000  2.000000  2.000000  2.000000   \n",
       "...         ...       ...       ...       ...       ...       ...       ...   \n",
       "30485  0.422620  0.446501  0.470383  0.461053  0.422620  0.446501  0.446501   \n",
       "30486  0.343918  0.322156  0.300866  0.279576  0.258286  0.258286  0.258050   \n",
       "30487  0.840852  0.824450  0.815517  0.770560  0.790701  0.803564  0.826195   \n",
       "30488  1.023106  1.051362  1.023106  1.051362  1.023106  1.079618  1.023106   \n",
       "30489  1.209623  1.260422  1.214810  1.218266  1.241656  1.142806  0.944033   \n",
       "\n",
       "            F19       F20       F21       F22       F23       F24       F25  \\\n",
       "0      2.000000  4.000000  0.000000  0.000000  0.000000  0.000000  3.000000   \n",
       "1      0.000000  1.000000  2.000000  1.000000  1.000000  0.000000  0.000000   \n",
       "2      1.000000  0.000000  2.000000  0.000000  0.000000  0.000000  2.000000   \n",
       "3      1.000000  1.000000  0.000000  4.000000  0.000000  1.000000  3.000000   \n",
       "4      0.000000  0.000000  0.000000  2.000000  1.000000  0.000000  0.000000   \n",
       "...         ...       ...       ...       ...       ...       ...       ...   \n",
       "30485  0.461053  0.422620  0.494264  0.494264  0.518145  0.542026  0.537362   \n",
       "30486  0.257814  0.257578  0.257342  0.257342  0.257342  0.257342  0.278868   \n",
       "30487  0.822226  0.775525  0.754914  0.743947  0.729089  0.752679  0.741762   \n",
       "30488  1.051362  1.079618  1.079618  1.192643  1.362181  1.333925  1.362181   \n",
       "30489  1.219996  1.275977  1.226909  1.244190  1.283131  1.184281  1.158754   \n",
       "\n",
       "            F26       F27       F28  \n",
       "0      3.000000  0.000000  1.000000  \n",
       "1      0.000000  0.000000  0.000000  \n",
       "2      3.000000  0.000000  1.000000  \n",
       "3      0.000000  2.000000  6.000000  \n",
       "4      2.000000  1.000000  0.000000  \n",
       "...         ...       ...       ...  \n",
       "30485  0.518145  0.542026  0.561243  \n",
       "30486  0.278868  0.279104  0.279104  \n",
       "30487  0.734534  0.719636  0.755660  \n",
       "30488  1.305669  1.305669  1.220900  \n",
       "30489  1.604507  1.670857  1.625245  \n",
       "\n",
       "[60980 rows x 29 columns]"
      ]
     },
     "execution_count": 220,
     "metadata": {
      "tags": []
     },
     "output_type": "execute_result"
    }
   ],
   "source": [
    "final_non_baseline_sub0 = pd.concat([valid_part, df])\n",
    "\n",
    "final_non_baseline_sub0"
   ]
  },
  {
   "cell_type": "code",
   "execution_count": 221,
   "metadata": {
    "id": "jbpEsv4avYA1"
   },
   "outputs": [],
   "source": [
    "final_non_baseline_sub0.to_csv('final_real_sub0.csv', index=False)"
   ]
  },
  {
   "cell_type": "code",
   "execution_count": null,
   "metadata": {
    "id": "uuSLmgpWvYI2"
   },
   "outputs": [],
   "source": []
  },
  {
   "cell_type": "code",
   "execution_count": null,
   "metadata": {
    "id": "bkxSo9KpvYRY"
   },
   "outputs": [],
   "source": []
  },
  {
   "cell_type": "code",
   "execution_count": null,
   "metadata": {
    "id": "f5Bi_3hMvYbj"
   },
   "outputs": [],
   "source": []
  }
 ],
 "metadata": {
  "colab": {
   "collapsed_sections": [],
   "name": "beat_baseline_take1",
   "provenance": []
  },
  "kernelspec": {
   "display_name": "Python 3",
   "language": "python",
   "name": "python3"
  },
  "language_info": {
   "codemirror_mode": {
    "name": "ipython",
    "version": 3
   },
   "file_extension": ".py",
   "mimetype": "text/x-python",
   "name": "python",
   "nbconvert_exporter": "python",
   "pygments_lexer": "ipython3",
   "version": "3.7.1"
  }
 },
 "nbformat": 4,
 "nbformat_minor": 1
}
